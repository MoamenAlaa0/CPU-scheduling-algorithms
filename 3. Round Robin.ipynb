{
 "cells": [
  {
   "cell_type": "code",
   "execution_count": 2,
   "id": "9235c590",
   "metadata": {},
   "outputs": [],
   "source": [
    "# [id, At, Bt]\n",
    "data = [[1,0,10],[2,1,4],[3,2,5],[4,3,3]]"
   ]
  },
  {
   "cell_type": "code",
   "execution_count": 3,
   "id": "4899743f",
   "metadata": {},
   "outputs": [],
   "source": [
    "Q = 3\n",
    "RR = []\n",
    "all_excuted = 0"
   ]
  },
  {
   "cell_type": "code",
   "execution_count": 4,
   "id": "4e218a1d",
   "metadata": {},
   "outputs": [],
   "source": [
    "# As a C++ developer you can think of Python variables as pointers\n",
    "# Then Python doesn't allocates a new memory location, instead both are pointing to the same memory location\n",
    "# However if you are using linear lists or simple lists the you can also use x = y[:] \n",
    "# But if yo are using nested lists then deepcopy()\n",
    "# import copy\n",
    "# alt = copy.deepcopy(data)\n",
    "\n",
    "alt = data[:]\n",
    "for i in range(len(data)):\n",
    "    alt[i] = data[i][:]\n",
    "    \n",
    "# sort by Arrival time\n",
    "alt.sort(key=lambda x:x[1])"
   ]
  },
  {
   "cell_type": "code",
   "execution_count": 5,
   "id": "2afa8f8a",
   "metadata": {},
   "outputs": [
    {
     "data": {
      "text/plain": [
       "[[1, 0, 10], [2, 1, 4], [3, 2, 5], [4, 3, 3]]"
      ]
     },
     "execution_count": 5,
     "metadata": {},
     "output_type": "execute_result"
    }
   ],
   "source": [
    "alt"
   ]
  },
  {
   "cell_type": "code",
   "execution_count": 6,
   "id": "a60517f5",
   "metadata": {},
   "outputs": [],
   "source": [
    "while True:\n",
    "    end_execution = False\n",
    "\n",
    "    for i in range(len(alt)):\n",
    "        if all_excuted == len(alt):\n",
    "            end_execution = True\n",
    "            break\n",
    "            \n",
    "        if alt[i][2] == 0:\n",
    "            continue \n",
    "            \n",
    "        if alt[i][2] > Q:\n",
    "            x = Q\n",
    "            alt[i][2] = alt[i][2] - Q  \n",
    "        else:\n",
    "            x = alt[i][2]\n",
    "            alt[i][2] = 0\n",
    "            all_excuted += 1\n",
    "        \n",
    "        # (Process ID, Time taked from cpu)\n",
    "        RR.append((alt[i][0], x))\n",
    "                        \n",
    "    if end_execution:\n",
    "        break"
   ]
  },
  {
   "cell_type": "code",
   "execution_count": 7,
   "id": "17d073f0",
   "metadata": {},
   "outputs": [
    {
     "data": {
      "text/plain": [
       "[(1, 3), (2, 3), (3, 3), (4, 3), (1, 3), (2, 1), (3, 2), (1, 3), (1, 1)]"
      ]
     },
     "execution_count": 7,
     "metadata": {},
     "output_type": "execute_result"
    }
   ],
   "source": [
    "RR"
   ]
  },
  {
   "cell_type": "code",
   "execution_count": 8,
   "id": "ae1abb78",
   "metadata": {},
   "outputs": [],
   "source": [
    "Gantt = []\n",
    "next_time = 0\n",
    "for i in range(len(RR)):\n",
    "    next_time += RR[i][1]\n",
    "    Gantt.append((RR[i][0], next_time))"
   ]
  },
  {
   "cell_type": "code",
   "execution_count": 9,
   "id": "7deb84e2",
   "metadata": {},
   "outputs": [
    {
     "data": {
      "text/plain": [
       "[(1, 3), (2, 6), (3, 9), (4, 12), (1, 15), (2, 16), (3, 18), (1, 21), (1, 22)]"
      ]
     },
     "execution_count": 9,
     "metadata": {},
     "output_type": "execute_result"
    }
   ],
   "source": [
    "Gantt"
   ]
  },
  {
   "cell_type": "code",
   "execution_count": 10,
   "id": "26c15b33",
   "metadata": {},
   "outputs": [],
   "source": [
    "Throughput = []\n",
    "for i in range(len(Gantt)-1):\n",
    "    temp = Gantt[i]\n",
    "    for j in range(i+1, len(Gantt)):\n",
    "        if Gantt[i][0] == Gantt[j][0]:\n",
    "            temp = Gantt[j]\n",
    "            \n",
    "    if temp in Throughput:\n",
    "        continue\n",
    "    \n",
    "    Throughput.append(temp)"
   ]
  },
  {
   "cell_type": "code",
   "execution_count": 11,
   "id": "9cfc4099",
   "metadata": {},
   "outputs": [
    {
     "data": {
      "text/plain": [
       "[(1, 22), (2, 16), (3, 18), (4, 12)]"
      ]
     },
     "execution_count": 11,
     "metadata": {},
     "output_type": "execute_result"
    }
   ],
   "source": [
    "Throughput"
   ]
  },
  {
   "cell_type": "code",
   "execution_count": 12,
   "id": "0c5eee1d",
   "metadata": {},
   "outputs": [],
   "source": [
    "Turnaround = []\n",
    "for i in range(len(Throughput)):\n",
    "    Turnaround.append((Throughput[i][0], Throughput[i][1] - data[i][1]))"
   ]
  },
  {
   "cell_type": "code",
   "execution_count": 13,
   "id": "c70b2517",
   "metadata": {},
   "outputs": [
    {
     "data": {
      "text/plain": [
       "[(1, 22), (2, 15), (3, 16), (4, 9)]"
      ]
     },
     "execution_count": 13,
     "metadata": {},
     "output_type": "execute_result"
    }
   ],
   "source": [
    "Turnaround"
   ]
  },
  {
   "cell_type": "code",
   "execution_count": 14,
   "id": "5585e84f",
   "metadata": {},
   "outputs": [],
   "source": [
    "waiting = []\n",
    "for i in range(len(Turnaround)):\n",
    "    waiting.append((Turnaround[i][0], Turnaround[i][1] - data[i][2]))"
   ]
  },
  {
   "cell_type": "code",
   "execution_count": 15,
   "id": "a6bfd8ae",
   "metadata": {
    "scrolled": true
   },
   "outputs": [
    {
     "data": {
      "text/plain": [
       "[(1, 12), (2, 11), (3, 11), (4, 6)]"
      ]
     },
     "execution_count": 15,
     "metadata": {},
     "output_type": "execute_result"
    }
   ],
   "source": [
    "waiting"
   ]
  },
  {
   "cell_type": "code",
   "execution_count": 16,
   "id": "b1436776",
   "metadata": {},
   "outputs": [],
   "source": [
    "avg_waiting = 0\n",
    "for i in range(len(waiting)):\n",
    "    avg_waiting += waiting[i][1]\n",
    "avg_waiting = (avg_waiting/len(data))"
   ]
  },
  {
   "cell_type": "code",
   "execution_count": 17,
   "id": "1a632201",
   "metadata": {},
   "outputs": [
    {
     "data": {
      "text/plain": [
       "10.0"
      ]
     },
     "execution_count": 17,
     "metadata": {},
     "output_type": "execute_result"
    }
   ],
   "source": [
    "avg_waiting"
   ]
  }
 ],
 "metadata": {
  "kernelspec": {
   "display_name": "Python 3",
   "language": "python",
   "name": "python3"
  },
  "language_info": {
   "codemirror_mode": {
    "name": "ipython",
    "version": 3
   },
   "file_extension": ".py",
   "mimetype": "text/x-python",
   "name": "python",
   "nbconvert_exporter": "python",
   "pygments_lexer": "ipython3",
   "version": "3.8.8"
  }
 },
 "nbformat": 4,
 "nbformat_minor": 5
}
