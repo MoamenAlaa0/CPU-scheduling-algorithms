{
 "cells": [
  {
   "cell_type": "code",
   "execution_count": 3,
   "id": "f2826317",
   "metadata": {},
   "outputs": [],
   "source": [
    "# [id, At, Bt]\n",
    "data = [[2,0,13],[3,1,80],[1,2,50]]\n",
    "\n",
    "data.sort(key=lambda x:x[1])"
   ]
  },
  {
   "cell_type": "code",
   "execution_count": 4,
   "id": "31d5a395",
   "metadata": {},
   "outputs": [
    {
     "data": {
      "text/plain": [
       "[[2, 0, 13], [3, 1, 80], [1, 2, 50]]"
      ]
     },
     "execution_count": 4,
     "metadata": {},
     "output_type": "execute_result"
    }
   ],
   "source": [
    "data"
   ]
  },
  {
   "cell_type": "code",
   "execution_count": 7,
   "id": "d0fe660d",
   "metadata": {},
   "outputs": [],
   "source": [
    "Throughput = []\n",
    "next_time = 0\n",
    "for i in range(len(data)):\n",
    "    next_time += data[i][2]\n",
    "    Throughput.append((data[i][0], next_time))"
   ]
  },
  {
   "cell_type": "code",
   "execution_count": 8,
   "id": "980ed515",
   "metadata": {},
   "outputs": [
    {
     "data": {
      "text/plain": [
       "[(2, 13), (3, 93), (1, 143)]"
      ]
     },
     "execution_count": 8,
     "metadata": {},
     "output_type": "execute_result"
    }
   ],
   "source": [
    "Throughput"
   ]
  },
  {
   "cell_type": "code",
   "execution_count": 9,
   "id": "c0cd1d4b",
   "metadata": {},
   "outputs": [],
   "source": [
    "Turnaround = []\n",
    "for i in range(len(Throughput)):\n",
    "    Turnaround.append((Throughput[i][0], Throughput[i][1] - data[i][1]))"
   ]
  },
  {
   "cell_type": "code",
   "execution_count": 10,
   "id": "511f34d9",
   "metadata": {},
   "outputs": [
    {
     "data": {
      "text/plain": [
       "[(2, 13), (3, 92), (1, 141)]"
      ]
     },
     "execution_count": 10,
     "metadata": {},
     "output_type": "execute_result"
    }
   ],
   "source": [
    "Turnaround"
   ]
  },
  {
   "cell_type": "code",
   "execution_count": 11,
   "id": "bbacefe4",
   "metadata": {},
   "outputs": [],
   "source": [
    "waiting = []\n",
    "for i in range(len(Turnaround)):\n",
    "    waiting.append((Turnaround[i][0], Turnaround[i][1] - data[i][2]))"
   ]
  },
  {
   "cell_type": "code",
   "execution_count": 12,
   "id": "70375004",
   "metadata": {},
   "outputs": [
    {
     "data": {
      "text/plain": [
       "[(2, 0), (3, 12), (1, 91)]"
      ]
     },
     "execution_count": 12,
     "metadata": {},
     "output_type": "execute_result"
    }
   ],
   "source": [
    "waiting"
   ]
  },
  {
   "cell_type": "code",
   "execution_count": 17,
   "id": "15758044",
   "metadata": {},
   "outputs": [],
   "source": [
    "avg_waiting = 0\n",
    "for i in range(len(waiting)):\n",
    "    avg_waiting += waiting[i][1]\n",
    "avg_waiting = (avg_waiting/len(data))"
   ]
  },
  {
   "cell_type": "code",
   "execution_count": 18,
   "id": "da799efb",
   "metadata": {},
   "outputs": [
    {
     "data": {
      "text/plain": [
       "34.333333333333336"
      ]
     },
     "execution_count": 18,
     "metadata": {},
     "output_type": "execute_result"
    }
   ],
   "source": [
    "avg_waiting"
   ]
  }
 ],
 "metadata": {
  "kernelspec": {
   "display_name": "Python 3",
   "language": "python",
   "name": "python3"
  },
  "language_info": {
   "codemirror_mode": {
    "name": "ipython",
    "version": 3
   },
   "file_extension": ".py",
   "mimetype": "text/x-python",
   "name": "python",
   "nbconvert_exporter": "python",
   "pygments_lexer": "ipython3",
   "version": "3.8.8"
  }
 },
 "nbformat": 4,
 "nbformat_minor": 5
}
