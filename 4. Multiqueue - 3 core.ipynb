{
 "cells": [
  {
   "cell_type": "code",
   "execution_count": 1,
   "id": "34d61aa9",
   "metadata": {},
   "outputs": [],
   "source": [
    "# [id, At, Bt]\n",
    "data = [[1,0,7],[2,1,60],[3,2,20],[4,3,40]]"
   ]
  },
  {
   "cell_type": "code",
   "execution_count": 2,
   "id": "8c3a0347",
   "metadata": {},
   "outputs": [],
   "source": [
    "Q1 = 8\n",
    "Q2 = 16\n",
    "Queue_1 = []\n",
    "Queue_2 = []\n",
    "Queue_3 = []"
   ]
  },
  {
   "cell_type": "code",
   "execution_count": 3,
   "id": "b97f6cdc",
   "metadata": {},
   "outputs": [],
   "source": [
    "# As a C++ developer you can think of Python variables as pointers\n",
    "# Then Python doesn't allocates a new memory location, instead both are pointing to the same memory location\n",
    "# However if you are using linear lists or simple lists the you can also use x = y[:] \n",
    "# But if yo are using nested lists then deepcopy()\n",
    "# import copy\n",
    "# alt = copy.deepcopy(data)\n",
    "\n",
    "alt = data[:]\n",
    "for i in range(len(data)):\n",
    "    alt[i] = data[i][:]\n",
    "    \n",
    "# sort by Arrival time\n",
    "alt.sort(key=lambda x:x[1])"
   ]
  },
  {
   "cell_type": "code",
   "execution_count": 4,
   "id": "58c16132",
   "metadata": {},
   "outputs": [
    {
     "data": {
      "text/plain": [
       "[[1, 0, 7], [2, 1, 60], [3, 2, 20], [4, 3, 40]]"
      ]
     },
     "execution_count": 4,
     "metadata": {},
     "output_type": "execute_result"
    }
   ],
   "source": [
    "alt"
   ]
  },
  {
   "cell_type": "code",
   "execution_count": 5,
   "id": "123e9277",
   "metadata": {},
   "outputs": [],
   "source": [
    "def Round_Robin(data, Q):\n",
    "    RR = []\n",
    "    for i in range(len(data)):\n",
    "        if data[i][2] == 0:\n",
    "            continue \n",
    "            \n",
    "        if data[i][2] > Q:\n",
    "            x = Q\n",
    "            data[i][2] = data[i][2] - Q  \n",
    "        else:\n",
    "            x = data[i][2]\n",
    "            data[i][2] = 0\n",
    "        \n",
    "        # (Process ID, Time taked from cpu)\n",
    "        RR.append((data[i][0], x))\n",
    "    return RR"
   ]
  },
  {
   "cell_type": "code",
   "execution_count": 6,
   "id": "fd7d11a2",
   "metadata": {},
   "outputs": [],
   "source": [
    "def FCFS(data):\n",
    "    fcfs = []\n",
    "    for i in range(len(data)):\n",
    "        if data[i][2] == 0:\n",
    "            continue \n",
    "        else: \n",
    "            fcfs.append((data[i][0], data[i][2]))\n",
    "    return fcfs"
   ]
  },
  {
   "cell_type": "code",
   "execution_count": 7,
   "id": "f24d9c51",
   "metadata": {},
   "outputs": [],
   "source": [
    "for i in range(1, 4):\n",
    "    if i == 1:\n",
    "        Queue_1 = Round_Robin(alt, Q1)\n",
    "    if i == 2:\n",
    "        Queue_2 = Round_Robin(alt, Q2)\n",
    "    if i == 3:\n",
    "        Queue_3 = FCFS(alt)"
   ]
  },
  {
   "cell_type": "code",
   "execution_count": 8,
   "id": "5a87109e",
   "metadata": {},
   "outputs": [
    {
     "data": {
      "text/plain": [
       "[(1, 7), (2, 8), (3, 8), (4, 8)]"
      ]
     },
     "execution_count": 8,
     "metadata": {},
     "output_type": "execute_result"
    }
   ],
   "source": [
    "Queue_1"
   ]
  },
  {
   "cell_type": "code",
   "execution_count": 9,
   "id": "c9abb5b7",
   "metadata": {},
   "outputs": [
    {
     "data": {
      "text/plain": [
       "[(2, 16), (3, 12), (4, 16)]"
      ]
     },
     "execution_count": 9,
     "metadata": {},
     "output_type": "execute_result"
    }
   ],
   "source": [
    "Queue_2"
   ]
  },
  {
   "cell_type": "code",
   "execution_count": 10,
   "id": "86300a04",
   "metadata": {},
   "outputs": [
    {
     "data": {
      "text/plain": [
       "[(2, 36), (4, 16)]"
      ]
     },
     "execution_count": 10,
     "metadata": {},
     "output_type": "execute_result"
    }
   ],
   "source": [
    "Queue_3"
   ]
  },
  {
   "cell_type": "code",
   "execution_count": 11,
   "id": "4b67f3ca",
   "metadata": {},
   "outputs": [],
   "source": [
    "def complete_Time(Queue, next_time = 0):\n",
    "    ct = []\n",
    "    for i in range(len(Queue)):\n",
    "        next_time += Queue[i][1]\n",
    "        ct.append((Queue[i][0], next_time))\n",
    "    return ct"
   ]
  },
  {
   "cell_type": "code",
   "execution_count": 12,
   "id": "e4bd1572",
   "metadata": {},
   "outputs": [],
   "source": [
    "def start_time(Queue, Gantt):\n",
    "    next_time = 0\n",
    "    for i in range(len(Gantt)):\n",
    "        if Queue[0][0] == Gantt[i][0]:\n",
    "            next_time = Gantt[i][1]\n",
    "            break\n",
    "    return next_time"
   ]
  },
  {
   "cell_type": "code",
   "execution_count": 16,
   "id": "d74d3800",
   "metadata": {},
   "outputs": [],
   "source": [
    "Gantt_1 = complete_Time(Queue_1)\n",
    "Gantt_2 = complete_Time(Queue_2, start_time(Queue_2, Gantt_1))\n",
    "Gantt_3 = complete_Time(Queue_3, start_time(Queue_3, Gantt_2))\n",
    "\n",
    "Gantt = Gantt_1 + Gantt_2 + Gantt_3"
   ]
  },
  {
   "cell_type": "code",
   "execution_count": 17,
   "id": "66554bb2",
   "metadata": {},
   "outputs": [],
   "source": [
    "Throughput = []\n",
    "for i in range(len(Gantt)-1):\n",
    "    temp = Gantt[i]\n",
    "    for j in range(i+1, len(Gantt)):\n",
    "        if Gantt[i][0] == Gantt[j][0]:\n",
    "            temp = Gantt[j]\n",
    "            \n",
    "    if temp in Throughput:\n",
    "        continue\n",
    "    \n",
    "    Throughput.append(temp)"
   ]
  },
  {
   "cell_type": "code",
   "execution_count": 18,
   "id": "50ba462e",
   "metadata": {},
   "outputs": [
    {
     "data": {
      "text/plain": [
       "[(1, 7), (2, 67), (3, 43), (4, 83)]"
      ]
     },
     "execution_count": 18,
     "metadata": {},
     "output_type": "execute_result"
    }
   ],
   "source": [
    "Throughput"
   ]
  },
  {
   "cell_type": "code",
   "execution_count": 19,
   "id": "a7909db6",
   "metadata": {},
   "outputs": [],
   "source": [
    "Turnaround = []\n",
    "for i in range(len(Throughput)):\n",
    "    Turnaround.append((Throughput[i][0], Throughput[i][1] - data[i][1]))"
   ]
  },
  {
   "cell_type": "code",
   "execution_count": 20,
   "id": "18344f11",
   "metadata": {},
   "outputs": [
    {
     "data": {
      "text/plain": [
       "[(1, 7), (2, 66), (3, 41), (4, 80)]"
      ]
     },
     "execution_count": 20,
     "metadata": {},
     "output_type": "execute_result"
    }
   ],
   "source": [
    "Turnaround"
   ]
  },
  {
   "cell_type": "code",
   "execution_count": 21,
   "id": "f97d9936",
   "metadata": {},
   "outputs": [],
   "source": [
    "waiting = []\n",
    "for i in range(len(Turnaround)):\n",
    "    waiting.append((Turnaround[i][0], Turnaround[i][1] - data[i][2]))"
   ]
  },
  {
   "cell_type": "code",
   "execution_count": 22,
   "id": "2b689d77",
   "metadata": {},
   "outputs": [
    {
     "data": {
      "text/plain": [
       "[(1, 0), (2, 6), (3, 21), (4, 40)]"
      ]
     },
     "execution_count": 22,
     "metadata": {},
     "output_type": "execute_result"
    }
   ],
   "source": [
    "waiting"
   ]
  },
  {
   "cell_type": "code",
   "execution_count": 23,
   "id": "6a73f00c",
   "metadata": {},
   "outputs": [],
   "source": [
    "avg_waiting = 0\n",
    "for i in range(len(waiting)):\n",
    "    avg_waiting += waiting[i][1]\n",
    "avg_waiting = (avg_waiting/len(data))"
   ]
  },
  {
   "cell_type": "code",
   "execution_count": 24,
   "id": "5255f286",
   "metadata": {},
   "outputs": [
    {
     "data": {
      "text/plain": [
       "16.75"
      ]
     },
     "execution_count": 24,
     "metadata": {},
     "output_type": "execute_result"
    }
   ],
   "source": [
    "avg_waiting"
   ]
  }
 ],
 "metadata": {
  "kernelspec": {
   "display_name": "Python 3",
   "language": "python",
   "name": "python3"
  },
  "language_info": {
   "codemirror_mode": {
    "name": "ipython",
    "version": 3
   },
   "file_extension": ".py",
   "mimetype": "text/x-python",
   "name": "python",
   "nbconvert_exporter": "python",
   "pygments_lexer": "ipython3",
   "version": "3.8.8"
  }
 },
 "nbformat": 4,
 "nbformat_minor": 5
}
