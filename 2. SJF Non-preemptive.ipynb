{
 "cells": [
  {
   "cell_type": "code",
   "execution_count": 9,
   "id": "c680bf3b",
   "metadata": {},
   "outputs": [],
   "source": [
    "# [id, At, Bt, execution(0,1)]\n",
    "\n",
    "#data = [[1,0,50,0],[2,0,20,0],[3,1,30,0],[4,1,10,0],[5,3,40,0]]\n",
    "data = [[1,0,4,0],[2,1,3,0],[3,2,1,0],[4,3,2,0],[5,4,6,0]]\n",
    "\n",
    "# sort by Arrival time\n",
    "data.sort(key=lambda x:x[1])\n",
    "q = 10"
   ]
  },
  {
   "cell_type": "code",
   "execution_count": 10,
   "id": "193076b7",
   "metadata": {
    "scrolled": true
   },
   "outputs": [
    {
     "data": {
      "text/plain": [
       "[[1, 0, 4, 0], [2, 1, 3, 0], [3, 2, 1, 0], [4, 3, 2, 0], [5, 4, 6, 0]]"
      ]
     },
     "execution_count": 10,
     "metadata": {},
     "output_type": "execute_result"
    }
   ],
   "source": [
    "data"
   ]
  },
  {
   "cell_type": "code",
   "execution_count": 11,
   "id": "e2b16a7a",
   "metadata": {},
   "outputs": [],
   "source": [
    "SJF = []\n",
    "r_q = [] #ready_queue\n",
    "\n",
    "Throughput = []\n",
    "Turnaround = []\n",
    "waiting = []\n",
    "\n",
    "next_time = 0\n",
    "all_excuted = 0"
   ]
  },
  {
   "cell_type": "code",
   "execution_count": 12,
   "id": "314ec6a3",
   "metadata": {},
   "outputs": [],
   "source": [
    "# get all processes have same AT in ready queue\n",
    "def same_AT(i, r_q):\n",
    "    global all_excuted\n",
    "    \n",
    "    if i == len(data):\n",
    "        return\n",
    "        \n",
    "    for x in range(i+1, len(data)):\n",
    "        if r_q[0][1] == data[x][1]:\n",
    "            r_q.append(data[x])\n",
    "            data[x][3] = 1\n",
    "            all_excuted += 1"
   ]
  },
  {
   "cell_type": "code",
   "execution_count": 13,
   "id": "f9d7f0b0",
   "metadata": {},
   "outputs": [],
   "source": [
    "def small_AT(i, r_q):\n",
    "    global all_excuted\n",
    "    \n",
    "    if i == len(data):\n",
    "        return\n",
    "        \n",
    "    for x in range(i+1, len(data)):\n",
    "        if data[x][1] < next_time:\n",
    "            r_q.append(data[x])\n",
    "            data[x][3] = 1\n",
    "            all_excuted += 1"
   ]
  },
  {
   "cell_type": "code",
   "execution_count": 14,
   "id": "1e353e90",
   "metadata": {},
   "outputs": [],
   "source": [
    "# get Throughput\n",
    "def get_Throughput(r_q):\n",
    "    global Throughput\n",
    "    global next_time\n",
    "    \n",
    "    # get throughput for current processes to use it for computing Turnaround\n",
    "    throughput_2 = []\n",
    "    \n",
    "    for i in range(len(r_q)):\n",
    "        next_time += r_q[i][2]\n",
    "        Throughput.append(next_time)\n",
    "        # **** #\n",
    "        throughput_2.append(next_time)\n",
    "        # **** #\n",
    "    return throughput_2"
   ]
  },
  {
   "cell_type": "code",
   "execution_count": 15,
   "id": "5bd8b187",
   "metadata": {},
   "outputs": [],
   "source": [
    "# get Turnaround\n",
    "def get_Turnaround(throughput_2, r_q):\n",
    "    global Turnaround\n",
    "    for i in range(len(r_q)):\n",
    "        Turnaround.append(throughput_2[i] - r_q[i][1])"
   ]
  },
  {
   "cell_type": "code",
   "execution_count": 16,
   "id": "b6699c83",
   "metadata": {
    "scrolled": true
   },
   "outputs": [
    {
     "name": "stdout",
     "output_type": "stream",
     "text": [
      "[[1, 0, 4, 1]]\n",
      "[[3, 2, 1, 1], [4, 3, 2, 1], [2, 1, 3, 1]]\n",
      "[[5, 4, 6, 1]]\n"
     ]
    }
   ],
   "source": [
    "while True:\n",
    "    end_execution = False\n",
    "    \n",
    "    for i in range(len(data)):\n",
    "        if all_excuted == len(data):\n",
    "            end_execution = True\n",
    "            break\n",
    "            \n",
    "        if data[i][3] != 0:\n",
    "            continue\n",
    "    \n",
    "        if i == 0:\n",
    "            r_q.append(data[i])\n",
    "            same_AT(i, r_q)\n",
    "        \n",
    "        elif data[i][1] < next_time:\n",
    "            r_q.append(data[i])\n",
    "            same_AT(i, r_q)\n",
    "            small_AT(i, r_q)\n",
    "            \n",
    "        else: continue\n",
    "    \n",
    "        # 1 = in execution\n",
    "        data[i][3] = 1\n",
    "        all_excuted += 1\n",
    "\n",
    "        # sort by Burst time\n",
    "        r_q.sort(key=lambda x:x[2])\n",
    "    \n",
    "        # from ready queue to CPU\n",
    "        SJF.extend(r_q)\n",
    "    \n",
    "        ######\n",
    "        throughput_2 = get_Throughput(r_q)\n",
    "        get_Turnaround(throughput_2, r_q)\n",
    "        ######\n",
    "\n",
    "        # printing ready queue\n",
    "        print(r_q)\n",
    "    \n",
    "        # delete all from ready queue\n",
    "        r_q = []\n",
    "    \n",
    "    if end_execution:\n",
    "        break"
   ]
  },
  {
   "cell_type": "code",
   "execution_count": 17,
   "id": "7e1d1f4e",
   "metadata": {},
   "outputs": [],
   "source": [
    "# get waiting time\n",
    "for i in range(len(SJF)):\n",
    "    waiting.append(Turnaround[i] - SJF[i][2])"
   ]
  },
  {
   "cell_type": "code",
   "execution_count": 18,
   "id": "a7bc103f",
   "metadata": {},
   "outputs": [
    {
     "data": {
      "text/plain": [
       "[[1, 0, 4, 1], [3, 2, 1, 1], [4, 3, 2, 1], [2, 1, 3, 1], [5, 4, 6, 1]]"
      ]
     },
     "execution_count": 18,
     "metadata": {},
     "output_type": "execute_result"
    }
   ],
   "source": [
    "SJF"
   ]
  },
  {
   "cell_type": "code",
   "execution_count": 19,
   "id": "9e1f534f",
   "metadata": {},
   "outputs": [
    {
     "data": {
      "text/plain": [
       "[4, 5, 7, 10, 16]"
      ]
     },
     "execution_count": 19,
     "metadata": {},
     "output_type": "execute_result"
    }
   ],
   "source": [
    "Throughput"
   ]
  },
  {
   "cell_type": "code",
   "execution_count": 20,
   "id": "5d20463c",
   "metadata": {},
   "outputs": [
    {
     "data": {
      "text/plain": [
       "[4, 3, 4, 9, 12]"
      ]
     },
     "execution_count": 20,
     "metadata": {},
     "output_type": "execute_result"
    }
   ],
   "source": [
    "Turnaround"
   ]
  },
  {
   "cell_type": "code",
   "execution_count": 21,
   "id": "f2367f31",
   "metadata": {
    "scrolled": true
   },
   "outputs": [
    {
     "data": {
      "text/plain": [
       "[0, 2, 2, 6, 6]"
      ]
     },
     "execution_count": 21,
     "metadata": {},
     "output_type": "execute_result"
    }
   ],
   "source": [
    "waiting # [0, 2, 2, 6, 6]"
   ]
  },
  {
   "cell_type": "code",
   "execution_count": 22,
   "id": "d89756ae",
   "metadata": {},
   "outputs": [
    {
     "ename": "TypeError",
     "evalue": "'int' object is not subscriptable",
     "output_type": "error",
     "traceback": [
      "\u001b[1;31m---------------------------------------------------------------------------\u001b[0m",
      "\u001b[1;31mTypeError\u001b[0m                                 Traceback (most recent call last)",
      "\u001b[1;32m<ipython-input-22-34fc079f579a>\u001b[0m in \u001b[0;36m<module>\u001b[1;34m\u001b[0m\n\u001b[0;32m      1\u001b[0m \u001b[0mavg_waiting\u001b[0m \u001b[1;33m=\u001b[0m \u001b[1;36m0\u001b[0m\u001b[1;33m\u001b[0m\u001b[1;33m\u001b[0m\u001b[0m\n\u001b[0;32m      2\u001b[0m \u001b[1;32mfor\u001b[0m \u001b[0mi\u001b[0m \u001b[1;32min\u001b[0m \u001b[0mrange\u001b[0m\u001b[1;33m(\u001b[0m\u001b[0mlen\u001b[0m\u001b[1;33m(\u001b[0m\u001b[0mwaiting\u001b[0m\u001b[1;33m)\u001b[0m\u001b[1;33m)\u001b[0m\u001b[1;33m:\u001b[0m\u001b[1;33m\u001b[0m\u001b[1;33m\u001b[0m\u001b[0m\n\u001b[1;32m----> 3\u001b[1;33m     \u001b[0mavg_waiting\u001b[0m \u001b[1;33m+=\u001b[0m \u001b[0mwaiting\u001b[0m\u001b[1;33m[\u001b[0m\u001b[0mi\u001b[0m\u001b[1;33m]\u001b[0m\u001b[1;33m[\u001b[0m\u001b[1;36m1\u001b[0m\u001b[1;33m]\u001b[0m\u001b[1;33m\u001b[0m\u001b[1;33m\u001b[0m\u001b[0m\n\u001b[0m\u001b[0;32m      4\u001b[0m \u001b[0mavg_waiting\u001b[0m \u001b[1;33m=\u001b[0m \u001b[1;33m(\u001b[0m\u001b[0mavg_waiting\u001b[0m\u001b[1;33m/\u001b[0m\u001b[0mlen\u001b[0m\u001b[1;33m(\u001b[0m\u001b[0mdata\u001b[0m\u001b[1;33m)\u001b[0m\u001b[1;33m)\u001b[0m\u001b[1;33m\u001b[0m\u001b[1;33m\u001b[0m\u001b[0m\n",
      "\u001b[1;31mTypeError\u001b[0m: 'int' object is not subscriptable"
     ]
    }
   ],
   "source": [
    "avg_waiting = 0\n",
    "for i in range(len(waiting)):\n",
    "    avg_waiting += waiting[i][1]\n",
    "avg_waiting = (avg_waiting/len(data))"
   ]
  },
  {
   "cell_type": "code",
   "execution_count": 23,
   "id": "fa678429",
   "metadata": {},
   "outputs": [
    {
     "data": {
      "text/plain": [
       "0"
      ]
     },
     "execution_count": 23,
     "metadata": {},
     "output_type": "execute_result"
    }
   ],
   "source": [
    "avg_waiting"
   ]
  }
 ],
 "metadata": {
  "kernelspec": {
   "display_name": "Python 3",
   "language": "python",
   "name": "python3"
  },
  "language_info": {
   "codemirror_mode": {
    "name": "ipython",
    "version": 3
   },
   "file_extension": ".py",
   "mimetype": "text/x-python",
   "name": "python",
   "nbconvert_exporter": "python",
   "pygments_lexer": "ipython3",
   "version": "3.8.8"
  }
 },
 "nbformat": 4,
 "nbformat_minor": 5
}
